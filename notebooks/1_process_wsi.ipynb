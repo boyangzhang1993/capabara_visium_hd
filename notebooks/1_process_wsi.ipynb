{
 "cells": [
  {
   "cell_type": "code",
   "execution_count": null,
   "id": "initial_id",
   "metadata": {
    "collapsed": true,
    "jupyter": {
     "outputs_hidden": true
    }
   },
   "outputs": [],
   "source": [
    "import sys\n",
    "from pathlib import Path\n",
    "# Import the package from the src directory\n",
    "\n",
    "cwd_path = Path.cwd()\n",
    "root_path = cwd_path.parent\n",
    "package_path = root_path / \"src\"\n",
    "\n",
    "sys.path.append(str(package_path))\n",
    "\n",
    "import CapybaraHD.process_histology.process_wsi as cp_process_wsi"
   ]
  },
  {
   "cell_type": "code",
   "execution_count": 3,
   "id": "457960f84884c8d6",
   "metadata": {
    "ExecuteTime": {
     "end_time": "2025-07-23T12:04:09.209113Z",
     "start_time": "2025-07-23T12:04:09.203927Z"
    }
   },
   "outputs": [],
   "source": [
    "wsi_folder = Path('/pub/boyaz14/elvin_visium_hd/Capabarab_hd/data/wsi_scan')\n",
    "cellranger_folder = Path('/dfs9/stanlewn-lab/share/Elvin_Tapestri/Visium_HD/WagenblastHD2/bings.mssm.edu/bings_mssm_edu/bings_omics/published_data/poddan01/external/elvin_wagenblast/WagenblastHD/WagenblastHD2/cellranger_output/ELWA02_FL3_0_v1')\n",
    "\n",
    "\n",
    "slide_f, adata_folder = wsi_folder/'FL3.svs', cellranger_folder\n",
    "\n",
    "assert all([slide_f.exists(), adata_folder.exists()])"
   ]
  },
  {
   "cell_type": "code",
   "execution_count": 4,
   "id": "6647f68ea704427b",
   "metadata": {
    "ExecuteTime": {
     "end_time": "2025-07-23T12:04:13.680137Z",
     "start_time": "2025-07-23T12:04:10.738520Z"
    }
   },
   "outputs": [
    {
     "name": "stdout",
     "output_type": "stream",
     "text": [
      "Generating tiles\n",
      "    Saving tiles to /dfs6/pub/boyaz14/elvin_visium_hd/Capabarab_hd/data/FL3_analysis/FL3_tiles\n"
     ]
    },
    {
     "data": {
      "application/vnd.jupyter.widget-view+json": {
       "model_id": "c2257aab81a94e398a3e8680e5aeba06",
       "version_major": 2,
       "version_minor": 0
      },
      "text/plain": [
       "  0%|          | 0/2652 [00:00<?, ?it/s]"
      ]
     },
     "metadata": {},
     "output_type": "display_data"
    },
    {
     "name": "stdout",
     "output_type": "stream",
     "text": [
      "    Generating tiles for row: 0 (total rows: 51)\n",
      "    Generating tiles for row: 1 (total rows: 51)\n",
      "    Generating tiles for row: 2 (total rows: 51)\n",
      "    Generating tiles for row: 3 (total rows: 51)\n",
      "    Generating tiles for row: 4 (total rows: 51)\n",
      "    Generating tiles for row: 5 (total rows: 51)\n",
      "    Generating tiles for row: 6 (total rows: 51)\n",
      "    Generating tiles for row: 7 (total rows: 51)\n",
      "    Generating tiles for row: 8 (total rows: 51)\n",
      "    Generating tiles for row: 9 (total rows: 51)\n",
      "    Generating tiles for row: 10 (total rows: 51)\n",
      "    Generating tiles for row: 11 (total rows: 51)\n",
      "    Generating tiles for row: 12 (total rows: 51)\n",
      "    Generating tiles for row: 13 (total rows: 51)\n",
      "    Generating tiles for row: 14 (total rows: 51)\n",
      "    Generating tiles for row: 15 (total rows: 51)\n",
      "    Generating tiles for row: 16 (total rows: 51)\n",
      "    Generating tiles for row: 17 (total rows: 51)\n",
      "    Generating tiles for row: 18 (total rows: 51)\n",
      "    Generating tiles for row: 19 (total rows: 51)\n",
      "    Generating tiles for row: 20 (total rows: 51)\n",
      "    Generating tiles for row: 21 (total rows: 51)\n",
      "    Generating tiles for row: 22 (total rows: 51)\n",
      "    Generating tiles for row: 23 (total rows: 51)\n",
      "    Generating tiles for row: 24 (total rows: 51)\n",
      "    Generating tiles for row: 25 (total rows: 51)\n",
      "    Generating tiles for row: 26 (total rows: 51)\n",
      "    Generating tiles for row: 27 (total rows: 51)\n",
      "    Generating tiles for row: 28 (total rows: 51)\n",
      "    Generating tiles for row: 29 (total rows: 51)\n",
      "    Generating tiles for row: 30 (total rows: 51)\n",
      "    Generating tiles for row: 31 (total rows: 51)\n",
      "    Generating tiles for row: 32 (total rows: 51)\n",
      "    Generating tiles for row: 33 (total rows: 51)\n",
      "    Generating tiles for row: 34 (total rows: 51)\n",
      "    Generating tiles for row: 35 (total rows: 51)\n",
      "    Generating tiles for row: 36 (total rows: 51)\n",
      "    Generating tiles for row: 37 (total rows: 51)\n",
      "    Generating tiles for row: 38 (total rows: 51)\n",
      "    Generating tiles for row: 39 (total rows: 51)\n",
      "    Generating tiles for row: 40 (total rows: 51)\n",
      "    Generating tiles for row: 41 (total rows: 51)\n",
      "    Generating tiles for row: 42 (total rows: 51)\n",
      "    Generating tiles for row: 43 (total rows: 51)\n",
      "    Generating tiles for row: 44 (total rows: 51)\n",
      "    Generating tiles for row: 45 (total rows: 51)\n",
      "    Generating tiles for row: 46 (total rows: 51)\n",
      "    Generating tiles for row: 47 (total rows: 51)\n",
      "    Generating tiles for row: 48 (total rows: 51)\n",
      "    Generating tiles for row: 49 (total rows: 51)\n",
      "    Generating tiles for row: 50 (total rows: 51)\n",
      "Detecting HE stain\n",
      "Folder /dfs6/pub/boyaz14/elvin_visium_hd/Capabarab_hd/data/FL3_analysis/not_he_stain already exists.\n",
      "The detection may have been run before.\n",
      "Please remove it before running this function.\n",
      "Loading model from /dfs6/pub/boyaz14/elvin_visium_hd/Capabarab_hd/data\n"
     ]
    },
    {
     "name": "stderr",
     "output_type": "stream",
     "text": [
      "2025-07-23 05:04:12.369906: E external/local_xla/xla/stream_executor/cuda/cuda_platform.cc:51] failed call to cuInit: INTERNAL: CUDA error: Failed call to cuInit: UNKNOWN ERROR (303)\n"
     ]
    },
    {
     "name": "stdout",
     "output_type": "stream",
     "text": [
      "Loading network weights from 'weights_best.h5'.\n",
      "Loading thresholds from 'thresholds.json'.\n",
      "Using default values: prob_thresh=0.458165, nms_thresh=0.3.\n"
     ]
    }
   ],
   "source": [
    "\n",
    "process_tile = cp_process_wsi.ProcessTile(\n",
    "    slide_f=slide_f,\n",
    "    model_path=root_path/'data'/'v2_all_samples',\n",
    "    # model_name=,\n",
    "    tiles_folder=root_path/'data'/'FL3_analysis'/'FL3_tiles'\n",
    "\n",
    ")\n",
    "\n",
    "process_tile.auto()"
   ]
  },
  {
   "cell_type": "code",
   "execution_count": null,
   "id": "a2ca059ba38ac69a",
   "metadata": {},
   "outputs": [],
   "source": []
  }
 ],
 "metadata": {
  "kernelspec": {
   "display_name": "Python 3 (ipykernel)",
   "language": "python",
   "name": "python3"
  },
  "language_info": {
   "codemirror_mode": {
    "name": "ipython",
    "version": 3
   },
   "file_extension": ".py",
   "mimetype": "text/x-python",
   "name": "python",
   "nbconvert_exporter": "python",
   "pygments_lexer": "ipython3",
   "version": "3.10.18"
  }
 },
 "nbformat": 4,
 "nbformat_minor": 5
}
